{
 "cells": [
  {
   "cell_type": "code",
   "execution_count": null,
   "metadata": {},
   "outputs": [],
   "source": [
    "import pandas as pd\n",
    "import numpy as np"
   ]
  },
  {
   "cell_type": "code",
   "execution_count": null,
   "metadata": {},
   "outputs": [],
   "source": [
    "import matplotlib.pyplot as plt\n",
    "import seaborn as sns\n",
    "import datetime\n",
    "from scipy import stats\n",
    "import warnings\n",
    "warnings.filterwarnings('ignore')\n",
    "\n",
    "np.set_printoptions(precision=4)\n",
    "sns.set(font_scale=1.5)\n",
    "plt.style.use('fivethirtyeight')\n",
    "\n",
    "%matplotlib inline\n",
    "%config InlineBackend.figure_format = 'retina'"
   ]
  },
  {
   "cell_type": "markdown",
   "metadata": {},
   "source": [
    "### Loading thge data"
   ]
  },
  {
   "cell_type": "code",
   "execution_count": null,
   "metadata": {},
   "outputs": [],
   "source": [
    "df = pd.read_csv('/Users/sandra/Desktop/Projects/air_clean_data.csv')\n",
    "df.head()"
   ]
  },
  {
   "cell_type": "code",
   "execution_count": null,
   "metadata": {},
   "outputs": [],
   "source": [
    "df['dateInt']=df['year'].astype(str) + df['month'].astype(str).str.zfill(2)+ df['day'].astype(str).str.zfill(2)+df['hour'].astype(str).str.zfill(2)\n",
    "df['Date'] = pd.to_datetime(df['dateInt'], format='%Y%m%d%H')\n",
    "df['dateInt']=df['year'].astype(str) + df['month'].astype(str).str.zfill(2)+ df['day'].astype(str).str.zfill(2)\n",
    "df['date'] = pd.to_datetime(df['dateInt'], format='%Y%m%d')"
   ]
  },
  {
   "cell_type": "code",
   "execution_count": null,
   "metadata": {},
   "outputs": [],
   "source": [
    "df.set_index('Date', inplace=True)\n",
    "df.head()"
   ]
  },
  {
   "cell_type": "markdown",
   "metadata": {},
   "source": [
    "#  Explanatory Data Analysis"
   ]
  },
  {
   "cell_type": "markdown",
   "metadata": {},
   "source": [
    "## Interactive graphs using Plotly"
   ]
  },
  {
   "cell_type": "code",
   "execution_count": null,
   "metadata": {},
   "outputs": [],
   "source": [
    "import plotly\n",
    "import plotly.graph_objs as go\n",
    "import plotly.offline as py\n",
    "#import plotly.io as pio\n",
    "#pio.renderers.default = 'colab'\n",
    "plotly.offline.init_notebook_mode(connected=True)\n",
    "\n",
    "import plotly.graph_objs as go\n",
    "from plotly.offline import init_notebook_mode, plot, iplot\n",
    "init_notebook_mode(connected=True)"
   ]
  },
  {
   "cell_type": "code",
   "execution_count": null,
   "metadata": {},
   "outputs": [],
   "source": [
    "unique_values = df['station'].unique()\n",
    "unique_values"
   ]
  },
  {
   "cell_type": "code",
   "execution_count": null,
   "metadata": {},
   "outputs": [],
   "source": [
    "stations = ['Dingling', 'Wanshouxigong', 'Huairou', 'Dongsi', 'Wanliu',\n",
    "       'Shunyi', 'Guanyuan', 'Aotizhongxin', 'Changping', 'Gucheng',\n",
    "       'Nongzhanguan', 'Tiantan']"
   ]
  },
  {
   "cell_type": "markdown",
   "metadata": {},
   "source": [
    "### Visualization of air pollution and weather condition levels of the whole dataset"
   ]
  },
  {
   "cell_type": "code",
   "execution_count": null,
   "metadata": {},
   "outputs": [],
   "source": [
    "air_variables = df[['SO2','CO','NO2', 'O3','PM10','PM2.5']]\n",
    "weather_variables = df[['TEMP', 'PRES', 'DEWP', 'RAIN', 'WSPM']]"
   ]
  },
  {
   "cell_type": "code",
   "execution_count": null,
   "metadata": {},
   "outputs": [],
   "source": [
    "import cufflinks as cf\n",
    "cf.go_offline()\n",
    "fig = go.Figure()\n",
    "for variable in air_variables:\n",
    "    fig.add_traces(go.Scatter(x=df.date, y=df[variable], mode='lines', name = variable))\n",
    "#fig.show()\n",
    "py.iplot(fig)\n"
   ]
  },
  {
   "cell_type": "code",
   "execution_count": null,
   "metadata": {},
   "outputs": [],
   "source": [
    "fig = go.Figure()\n",
    "for variable in weather_variables:\n",
    "    fig.add_traces(go.Scatter(x=df.date, y=df[variable], mode='lines', name = variable))\n",
    "fig.show()\n",
    "fig.write_html(\"output.html\",\n",
    "               include_plotlyjs=\"cdn\")\n"
   ]
  },
  {
   "cell_type": "markdown",
   "metadata": {},
   "source": [
    "### Visualisation of air pollution and weather condition sampled by station"
   ]
  },
  {
   "cell_type": "markdown",
   "metadata": {},
   "source": [
    "# air pollution\n",
    "# Sampling a single station data\n",
    "#station= df.loc[df['station'] == 'Dingling']\n",
    "\n",
    "for station in unique_values:\n",
    "\n",
    "    layout = go.Layout(title='Weather conditions (Station : Dingling)',\n",
    "                       yaxis={'title': 'Level (ug/m^3) '},\n",
    "                       xaxis={'title': 'Date'})                   \n",
    "\n",
    "    fig = go.Figure(layout=layout)\n",
    "\n",
    "    for variable in air_variables:\n",
    "        fig.add_traces(go.Scatter(x=df.date, y=df[variable], mode='lines', name = variable))\n",
    "    fig.show()\n",
    "\n",
    "#py.iplot(fig)"
   ]
  },
  {
   "cell_type": "code",
   "execution_count": null,
   "metadata": {},
   "outputs": [],
   "source": [
    "# air pollution\n",
    "# Sampling a single station data\n",
    "#station= df.loc[df['station'] == 'Dingling']\n",
    "\n",
    "for station in stations:\n",
    "\n",
    "    layout = go.Layout(title='Air pollution at the station: {}'.format(station),\n",
    "                       yaxis={'title': 'Level (ug/m^3) '},\n",
    "                       xaxis={'title': 'Date'})                   \n",
    "\n",
    "    fig = go.Figure(layout=layout)\n",
    "\n",
    "    for variable in air_variables:\n",
    "        fig.add_traces(go.Scatter(x=df.date, y=df[variable], mode='lines', name = variable))\n",
    "    fig.show()\n",
    "\n",
    "#py.iplot(fig)"
   ]
  },
  {
   "cell_type": "code",
   "execution_count": null,
   "metadata": {},
   "outputs": [],
   "source": [
    "# weather conditions\n",
    "# Sampling a single station data\n",
    "\n",
    "for station in stations:\n",
    "\n",
    "    layout = go.Layout(title='Weather conditions levels at the station: {}'.format(station),\n",
    "                       yaxis={'title': 'Level (ug/m^3) '},\n",
    "                       xaxis={'title': 'Date'})                   \n",
    "\n",
    "    fig = go.Figure(layout=layout)\n",
    "\n",
    "    for variable in weather_variables:\n",
    "        fig.add_traces(go.Scatter(x=df.date, y=df[variable], mode='lines', name = variable))\n",
    "    fig.show()\n",
    "\n",
    "\n",
    "#py.iplot(fig)"
   ]
  },
  {
   "cell_type": "code",
   "execution_count": null,
   "metadata": {},
   "outputs": [],
   "source": []
  },
  {
   "cell_type": "code",
   "execution_count": null,
   "metadata": {},
   "outputs": [],
   "source": [
    "import warnings\n",
    "warnings.filterwarnings('ignore')\n",
    "\n",
    "import numpy as np\n",
    "import pandas as pd\n",
    "from scipy import stats\n",
    "import statsmodels.api as sm\n",
    "import matplotlib.pyplot as plt\n",
    "\n",
    "%matplotlib inline\n"
   ]
  },
  {
   "cell_type": "code",
   "execution_count": null,
   "metadata": {},
   "outputs": [],
   "source": [
    "df_daily = df.resample('D').mean()\n",
    "df_daily.head()"
   ]
  },
  {
   "cell_type": "code",
   "execution_count": null,
   "metadata": {},
   "outputs": [],
   "source": [
    "df_weekly = df_daily.resample('W').mean()\n",
    "df_weekly.head()"
   ]
  },
  {
   "cell_type": "code",
   "execution_count": null,
   "metadata": {},
   "outputs": [],
   "source": [
    "df_monthly = df_daily.resample('M').mean()\n",
    "df_monthly.head()"
   ]
  },
  {
   "cell_type": "code",
   "execution_count": null,
   "metadata": {},
   "outputs": [],
   "source": [
    "pollutant_corr = df_daily.corr()  # Pearson correlation\n",
    "f, ax = plt.subplots(figsize=(15, 10))\n",
    "cmap = sns.diverging_palette(240, 10, n=9, as_cmap=True)\n",
    "sns.heatmap(pollutant_corr, cmap=cmap, annot=True, vmax=1, center=0,\n",
    "            square=True, linewidth=.5)"
   ]
  },
  {
   "cell_type": "code",
   "execution_count": null,
   "metadata": {},
   "outputs": [],
   "source": []
  },
  {
   "cell_type": "code",
   "execution_count": null,
   "metadata": {},
   "outputs": [],
   "source": [
    "pm10_top5 = df.groupby(by='station').agg({'PM10': 'mean'}).sort_values(by='PM10', ascending=False).head(5).reset_index()\n",
    "pm10_top5_st_codes = pm10_top5['station'].tolist()\n",
    "print('PM Top 5 station codes: {}'.format(pm10_top5_st_codes))\n",
    "# pm10_top5_district = df.set_index('station').loc[pm10_top5_st_codes].reset_index()['station']\n",
    "# pm10_top5.insert(loc=1, column='station)', value=pm10_top5_district)\n",
    "pm10_top5"
   ]
  },
  {
   "cell_type": "code",
   "execution_count": null,
   "metadata": {},
   "outputs": [],
   "source": [
    "plt.figure(figsize=(10, 8))\n",
    "sns.barplot(data=pm10_top5, x='station', y='PM10', palette='Set3')"
   ]
  },
  {
   "cell_type": "code",
   "execution_count": null,
   "metadata": {},
   "outputs": [],
   "source": []
  },
  {
   "cell_type": "code",
   "execution_count": null,
   "metadata": {},
   "outputs": [],
   "source": [
    "cols_to_drop = [ 'PM10', 'SO2', 'NO2', 'CO',\n",
    "       'O3', 'TEMP', 'PRES', 'DEWP', 'RAIN', 'WSPM']\n",
    "\n",
    "weekly_data = df_weekly.drop(cols_to_drop, axis=1)"
   ]
  },
  {
   "cell_type": "code",
   "execution_count": null,
   "metadata": {},
   "outputs": [],
   "source": [
    "pm_rate = weekly_data\n",
    "pm_rate"
   ]
  },
  {
   "cell_type": "code",
   "execution_count": null,
   "metadata": {},
   "outputs": [],
   "source": [
    "df.station.unique()"
   ]
  }
 ],
 "metadata": {
  "kernelspec": {
   "display_name": "Python 3",
   "language": "python",
   "name": "python3"
  },
  "language_info": {
   "codemirror_mode": {
    "name": "ipython",
    "version": 3
   },
   "file_extension": ".py",
   "mimetype": "text/x-python",
   "name": "python",
   "nbconvert_exporter": "python",
   "pygments_lexer": "ipython3",
   "version": "3.8.5"
  }
 },
 "nbformat": 4,
 "nbformat_minor": 4
}
